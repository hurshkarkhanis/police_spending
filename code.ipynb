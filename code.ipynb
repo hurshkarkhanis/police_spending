{
 "cells": [
  {
   "cell_type": "code",
   "execution_count": 1,
   "metadata": {},
   "outputs": [],
   "source": [
    "import pandas as pd\n",
    "import matplotlib.pyplot as plt"
   ]
  },
  {
   "cell_type": "code",
   "execution_count": 2,
   "metadata": {},
   "outputs": [],
   "source": [
    "#reading csv of crime data from the Marshall Project (nonprofit news org covering the U.S. criminal justice system)\n",
    "#skip 138 rows so data starts from '77 not '75\n",
    "crime = pd.read_csv('data/ucr_crime_1975_2015.csv', skiprows=list(range(1,139)), index_col='year')\n",
    "\n",
    "#reading csv of city spending from the Lincoln Institute (nonprofit research for solutions to economic/social issues)\n",
    "spending_all = pd.read_csv('data/Fisc_Year_Per_Capita_Real_city_07-19-2020.csv', index_col='year') #1977 - 2015\n",
    "\n",
    "#only taking columns that are relavant to my project and/or have sufficent usable data points (few zero, Nan values)\n",
    "spending = spending_all[['City',\n",
    "                        'Libraries Expenditure', \n",
    "                        'Public Welfare Expenditure',\n",
    "                         'Police Protection Expenditure',\n",
    "                         'Corrections Expenditure']]\n"
   ]
  },
  {
   "cell_type": "code",
   "execution_count": 3,
   "metadata": {},
   "outputs": [],
   "source": [
    "#merging tables was going to take a lot of formatting and lining up, \n",
    "#so i wrote a function that can easily create its own DataFrame by \n",
    "#extracting certain columns from one of the two original DataFrames\n",
    "#this is a way around the merging problem, and will definitely be using\n",
    "#this function a lot\n",
    "def pull_data_from(df, place):\n",
    "    if df is crime:\n",
    "        return crime.loc[crime['department_name'] == place]\n",
    "    if df is spending:\n",
    "        return spending.loc[spending['City'] == place]"
   ]
  },
  {
   "cell_type": "code",
   "execution_count": 31,
   "metadata": {},
   "outputs": [],
   "source": [
    "#fucntion to plot two data series with data on different scales\n",
    "# uses ywo y axes for this\n",
    "def double_graph(x, x_label, \n",
    "                y, y_color, y_marker, y_label, \n",
    "                z, z_color, z_marker, z_label,\n",
    "                city_name,\n",
    "                y_loc, z_loc,\n",
    "                fig_width=10, fig_height = 10):\n",
    "    \n",
    "    fig, ax = plt.subplots(figsize=(fig_width, fig_height))\n",
    "    x_local = x\n",
    "    y_local = y\n",
    "    z_local = z\n",
    "    \n",
    "    ax.plot(x_local, y_local, color=y_color, marker=y_marker, label = y_label)\n",
    "    ax.set_ylabel(y_label, color=y_color)\n",
    "    \n",
    "    ax2=ax.twinx()\n",
    "    \n",
    "    ax2.plot(x_local, z_local, color=z_color, marker=z_marker, label = z_label)\n",
    "    ax2.set_ylabel(z_label, color=z_color)\n",
    "    \n",
    "    ax.legend(loc=y_loc)\n",
    "    ax2.legend(loc=z_loc)\n",
    "    \n",
    "    ax.set_title(\"{} {} vs {} (over time)\".format(city_name, y_label, z_label))"
   ]
  },
  {
   "cell_type": "code",
   "execution_count": null,
   "metadata": {},
   "outputs": [],
   "source": []
  }
 ],
 "metadata": {
  "kernelspec": {
   "display_name": "Python 3",
   "language": "python",
   "name": "python3"
  },
  "language_info": {
   "codemirror_mode": {
    "name": "ipython",
    "version": 3
   },
   "file_extension": ".py",
   "mimetype": "text/x-python",
   "name": "python",
   "nbconvert_exporter": "python",
   "pygments_lexer": "ipython3",
   "version": "3.8.2"
  }
 },
 "nbformat": 4,
 "nbformat_minor": 4
}
